{
 "cells": [
  {
   "cell_type": "code",
   "execution_count": 1,
   "source": [
    "from CSpine2DPCAR import *"
   ],
   "outputs": [],
   "metadata": {}
  },
  {
   "cell_type": "code",
   "execution_count": 2,
   "source": [
    "target_anthro = anthro(anthro.MALE, stature=1753, age=50, shs=0.52)"
   ],
   "outputs": [],
   "metadata": {}
  },
  {
   "cell_type": "code",
   "execution_count": 3,
   "source": [
    "pcar = PCARSpine2D()\n",
    "pcar.predict(target_anthro, delta_head_angle=0)"
   ],
   "outputs": [
    {
     "output_type": "stream",
     "name": "stdout",
     "text": [
      "anthro_vector:  [-1.000e+00  1.753e+03  5.200e-01  5.000e+01 -1.753e+03 -5.200e-01\n",
      " -5.000e+01  1.000e+00]\n",
      "Wrote  136  landmarks.\n"
     ]
    }
   ],
   "metadata": {}
  },
  {
   "cell_type": "code",
   "execution_count": null,
   "source": [],
   "outputs": [],
   "metadata": {}
  }
 ],
 "metadata": {
  "orig_nbformat": 4,
  "language_info": {
   "name": "python",
   "version": "3.8.5",
   "mimetype": "text/x-python",
   "codemirror_mode": {
    "name": "ipython",
    "version": 3
   },
   "pygments_lexer": "ipython3",
   "nbconvert_exporter": "python",
   "file_extension": ".py"
  },
  "kernelspec": {
   "name": "python3",
   "display_name": "Python 3.8.5 64-bit ('viva': conda)"
  },
  "interpreter": {
   "hash": "cd477402678881a7647df85ea123ad524ecdcc888706b0834f44a63b9e6f507d"
  }
 },
 "nbformat": 4,
 "nbformat_minor": 2
}